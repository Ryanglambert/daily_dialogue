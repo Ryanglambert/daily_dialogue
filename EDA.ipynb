{
 "cells": [
  {
   "cell_type": "code",
   "execution_count": 1,
   "metadata": {},
   "outputs": [
    {
     "data": {
      "text/html": [
       "<style>.container { width:100% !important; }</style>"
      ],
      "text/plain": [
       "<IPython.core.display.HTML object>"
      ]
     },
     "metadata": {},
     "output_type": "display_data"
    }
   ],
   "source": [
    "from IPython.core.display import display, HTML\n",
    "display(HTML(\"<style>.container { width:100% !important; }</style>\"))\n",
    "\n",
    "import pandas as pd\n",
    "import matplotlib.pyplot as plt\n",
    "import numpy as np\n",
    "import os\n",
    "\n",
    "import gzip\n",
    "\n",
    "import data\n",
    "\n",
    "convs = list(data.convs())"
   ]
  },
  {
   "cell_type": "code",
   "execution_count": 2,
   "metadata": {},
   "outputs": [
    {
     "data": {
      "text/plain": [
       "[('person_a',\n",
       "  'Say , Jim , how about going for a few beers after dinner ? ',\n",
       "  'directive',\n",
       "  'no_emotion',\n",
       "  0),\n",
       " ('person_b',\n",
       "  ' You know that is tempting but is really not good for our fitness . ',\n",
       "  'commissive',\n",
       "  'no_emotion',\n",
       "  0),\n",
       " ('person_a',\n",
       "  ' What do you mean ? It will help us to relax . ',\n",
       "  'question',\n",
       "  'no_emotion',\n",
       "  0),\n",
       " ('person_b',\n",
       "  \" Do you really think so ? I don't . It will just make us fat and act silly . Remember last time ? \",\n",
       "  'question',\n",
       "  'no_emotion',\n",
       "  0),\n",
       " ('person_a',\n",
       "  \" I guess you are right.But what shall we do ? I don't feel like sitting at home . \",\n",
       "  'question',\n",
       "  'no_emotion',\n",
       "  0),\n",
       " ('person_b',\n",
       "  ' I suggest a walk over to the gym where we can play singsong and meet some of our friends . ',\n",
       "  'directive',\n",
       "  'no_emotion',\n",
       "  0),\n",
       " ('person_a',\n",
       "  \" That's a good idea . I hear Mary and Sally often go there to play pingpong.Perhaps we can make a foursome with them . \",\n",
       "  'commissive',\n",
       "  'happiness',\n",
       "  0),\n",
       " ('person_b',\n",
       "  ' Sounds great to me ! If they are willing , we could ask them to go dancing with us.That is excellent exercise and fun , too . ',\n",
       "  'inform',\n",
       "  'happiness',\n",
       "  0),\n",
       " ('person_a', \" Good.Let ' s go now . \", 'directive', 'happiness', 0),\n",
       " ('person_b', ' All right . ', 'commissive', 'happiness', 0),\n",
       " ('person_a', '\\n', None, None, 0)]"
      ]
     },
     "execution_count": 2,
     "metadata": {},
     "output_type": "execute_result"
    }
   ],
   "source": [
    "convs[0]"
   ]
  },
  {
   "cell_type": "code",
   "execution_count": null,
   "metadata": {},
   "outputs": [],
   "source": []
  },
  {
   "cell_type": "code",
   "execution_count": null,
   "metadata": {},
   "outputs": [],
   "source": []
  },
  {
   "cell_type": "code",
   "execution_count": null,
   "metadata": {},
   "outputs": [],
   "source": []
  },
  {
   "cell_type": "code",
   "execution_count": null,
   "metadata": {},
   "outputs": [],
   "source": []
  },
  {
   "cell_type": "code",
   "execution_count": null,
   "metadata": {},
   "outputs": [],
   "source": []
  },
  {
   "cell_type": "code",
   "execution_count": null,
   "metadata": {},
   "outputs": [],
   "source": []
  },
  {
   "cell_type": "code",
   "execution_count": null,
   "metadata": {},
   "outputs": [],
   "source": []
  },
  {
   "cell_type": "code",
   "execution_count": null,
   "metadata": {},
   "outputs": [],
   "source": []
  },
  {
   "cell_type": "code",
   "execution_count": null,
   "metadata": {},
   "outputs": [],
   "source": []
  },
  {
   "cell_type": "code",
   "execution_count": null,
   "metadata": {},
   "outputs": [],
   "source": []
  },
  {
   "cell_type": "code",
   "execution_count": null,
   "metadata": {},
   "outputs": [],
   "source": []
  },
  {
   "cell_type": "code",
   "execution_count": null,
   "metadata": {},
   "outputs": [],
   "source": []
  },
  {
   "cell_type": "code",
   "execution_count": null,
   "metadata": {},
   "outputs": [],
   "source": []
  },
  {
   "cell_type": "code",
   "execution_count": null,
   "metadata": {},
   "outputs": [],
   "source": []
  }
 ],
 "metadata": {
  "kernelspec": {
   "display_name": "Python 3",
   "language": "python",
   "name": "python3"
  },
  "language_info": {
   "codemirror_mode": {
    "name": "ipython",
    "version": 3
   },
   "file_extension": ".py",
   "mimetype": "text/x-python",
   "name": "python",
   "nbconvert_exporter": "python",
   "pygments_lexer": "ipython3",
   "version": "3.6.5"
  }
 },
 "nbformat": 4,
 "nbformat_minor": 2
}
